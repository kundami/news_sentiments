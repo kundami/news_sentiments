{
 "cells": [
  {
   "cell_type": "code",
   "execution_count": 23,
   "metadata": {
    "collapsed": true
   },
   "outputs": [],
   "source": [
    "# Dependencies\n",
    "import tweepy\n",
    "import json\n",
    "import pandas as pd\n",
    "import numpy as np\n",
    "from datetime import datetime\n",
    "import matplotlib.pyplot as plt\n",
    "from vaderSentiment.vaderSentiment import SentimentIntensityAnalyzer\n",
    "analyzer = SentimentIntensityAnalyzer()\n",
    "\n",
    "# Twitter API Keys\n",
    "consumer_key = \"Ed4RNulN1lp7AbOooHa9STCoU\"\n",
    "consumer_secret = \"P7cUJlmJZq0VaCY0Jg7COliwQqzK0qYEyUF9Y0idx4ujb3ZlW5\"\n",
    "access_token = \"839621358724198402-dzdOsx2WWHrSuBwyNUiqSEnTivHozAZ\"\n",
    "access_token_secret = \"dCZ80uNRbFDjxdU2EckmNiSckdoATach6Q8zb7YYYE5ER\"\n",
    "\n",
    "# Setup Tweepy API Authentication -2\n",
    "auth = tweepy.OAuthHandler(consumer_key, consumer_secret)\n",
    "auth.set_access_token(access_token, access_token_secret)\n",
    "api = tweepy.API(auth, parser=tweepy.parsers.JSONParser())"
   ]
  },
  {
   "cell_type": "code",
   "execution_count": 24,
   "metadata": {
    "collapsed": true
   },
   "outputs": [],
   "source": [
    "news_outlets = ['nytimes', 'cnn', 'bbc','cbs', 'fox' ]\n",
    "#news_outlets = ['nytimes' ]"
   ]
  },
  {
   "cell_type": "markdown",
   "metadata": {},
   "source": [
    "#### Pull last 100 tweets from each outlet.\n",
    "#### Perform a sentiment analysis with the compound, positive, neutral, and negative scoring for each tweet. \n",
    "#### Pull into a DataFrame the tweet's source acount, its text, its date, and its compound, positive, neutral, and negative sentiment scores.\n",
    "#### Export the data in the DataFrame into a CSV file.\n",
    "#### Save PNG images for each plot.\n"
   ]
  },
  {
   "cell_type": "code",
   "execution_count": 54,
   "metadata": {
    "scrolled": true
   },
   "outputs": [],
   "source": [
    "# Array of news outlets\n",
    "tweet_count = 100\n",
    "\n",
    "news_sentiment_analysis = pd.DataFrame()\n",
    "\n",
    "for target_outlet in news_outlets :\n",
    "    news_media = []\n",
    "    positive = []\n",
    "    neutral = []\n",
    "    negative = []\n",
    "    compound = []\n",
    "    create_date = []\n",
    "    tweets_ago = []\n",
    "    # Target User\n",
    "\n",
    "    # Loop through 50 pages of \n",
    "\n",
    "\n",
    "    # Get all tweets from home feed\n",
    "    #TODO Search for twitter handle and any tweets 1500 \n",
    "    public_tweets = api.user_timeline(target_outlet, count=tweet_count)\n",
    "\n",
    "    # Loop through all tweets\n",
    "    #TODO Pull the text and put each tweet in its own list for the  twitter handle\n",
    "    i = 0\n",
    "    for tweet in public_tweets:\n",
    "        #print(tweet)\n",
    "        # Break tweet text into an array of lowercase words\n",
    "        tweet_text = tweet[\"text\"]\n",
    "        #Sentiment Analysis\n",
    "        positive.append(analyzer.polarity_scores(tweet_text)[\"pos\"])\n",
    "        neutral.append(analyzer.polarity_scores(tweet_text)[\"neu\"])\n",
    "        negative.append(analyzer.polarity_scores(tweet_text)[\"neg\"])\n",
    "        compound.append(analyzer.polarity_scores(tweet_text)[\"compound\"])\n",
    "        create_date.append(datetime.strptime(tweet[\"created_at\"], \"%a %b %d %H:%M:%S %z %Y\")) \n",
    "        news_media.append(tweet['user']['screen_name'])\n",
    "        tweets_ago.append(i)\n",
    "        i=i-1               \n",
    " \n",
    "\n",
    "    data = pd.DataFrame({\"news_media\": news_media,\n",
    "                         \"positive\": positive,\n",
    "                         \"neutral\": neutral,\n",
    "                         \"negative\": negative,\n",
    "                         \"compound\": compound,\n",
    "                         \"create_date\": create_date,\n",
    "                         \"tweets_ago\":tweets_ago\n",
    "                       })\n",
    "    news_sentiment_analysis = news_sentiment_analysis.append(data)  \n",
    "\n",
    "news_sentiment_analysis.set_index('news_media', 'create_date')\n",
    "news_sentiment_analysis.to_csv(\"./output/news_media_sentiment_analysis.csv\")"
   ]
  },
  {
   "cell_type": "code",
   "execution_count": 71,
   "metadata": {},
   "outputs": [],
   "source": [
    "tweets_ago=news_sentiment_analysis.loc[news_sentiment_analysis.news_media=='nytimes']['tweets_ago']\n",
    "compound=news_sentiment_analysis.loc[news_sentiment_analysis.news_media=='nytimes']['compound']\n"
   ]
  },
  {
   "cell_type": "code",
   "execution_count": 72,
   "metadata": {
    "scrolled": false
   },
   "outputs": [
    {
     "data": {
      "image/png": "[encoded data removed]",
      "text/plain": [
       "<matplotlib.figure.Figure at 0x1e3b78fe2b0>"
      ]
     },
     "metadata": {},
     "output_type": "display_data"
    }
   ],
   "source": [
    "# Plot Time Between Twets\n",
    "\n",
    "# Plot Time Between Twets\n",
    "plt.plot(tweets_ago, tweet_compound, marker=\"o\", \n",
    "               linewidth=0.25, alpha=0.8, color=\"r\")\n",
    "\n",
    "plt.xlim(np.min(tweets_ago),np.max(tweets_ago)) \n",
    "plt.ylim([-1,1])\n",
    "#plt.ylim(np.min(tweet_compound),np.max(tweet_compound)) \n",
    "\n",
    "plt.ylabel(\"Tweet Sentiment\")\n",
    "plt.xlabel(\"Tweets Ago\")\n",
    "plt.title(\"Tweet Sentiment: %s\" % 'nytimes')\n",
    "plt.show()"
   ]
  },
  {
   "cell_type": "code",
   "execution_count": null,
   "metadata": {
    "collapsed": true
   },
   "outputs": [],
   "source": []
  }
 ],
 "metadata": {
  "anaconda-cloud": {},
  "kernelspec": {
   "display_name": "Python [conda env:PythonData]",
   "language": "python",
   "name": "conda-env-PythonData-py"
  },
  "language_info": {
   "codemirror_mode": {
    "name": "ipython",
    "version": 3
   },
   "file_extension": ".py",
   "mimetype": "text/x-python",
   "name": "python",
   "nbconvert_exporter": "python",
   "pygments_lexer": "ipython3",
   "version": "3.6.1"
  }
 },
 "nbformat": 4,
 "nbformat_minor": 1
}
